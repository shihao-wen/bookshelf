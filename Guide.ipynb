{
 "cells": [
  {
   "cell_type": "markdown",
   "metadata": {
    "editable": true
   },
   "source": [
    "# Errors Lab\n",
    "\n",
    "Now that we have our endpoints, we need to make sure we send back formatted responses when we hit an error. \n",
    "\n",
    "In `__init__.py` use the `errorhandler` decorator to handle all of the errors used in the endpoints. *Before* you get started make sure you read over the endpoint code. We have provided code to give you a starting point which you need to review in order to understand the code and errors you'll be working with. \n",
    "\n",
    "During this exercise, you'll also notice instructions to use `curl` to write requests. Take this opportunity to do so, such that you have practice before you need to use it in a professional setting! \n",
    "\n",
    "You can use the below buttons to start the frontend application and your export variables and `flask run` to try out the web app \n"
   ]
  },
  {
   "cell_type": "markdown",
   "metadata": {
    "editable": true,
    "ulab": {
     "buttons": {
      "ulab-button-30197103": {
       "bashCommand": "\\u0003",
       "filesToOpen": [],
       "isPreviewButton": false,
       "runInBackground": false,
       "style": "primary",
       "text": "STOP APP",
       "toggleOffText": "HIDE SOLUTION",
       "toggleOnText": "SHOW SOLUTION"
      },
      "ulab-button-78f3760c": {
       "bashCommand": "",
       "filesToOpen": [],
       "isPreviewButton": true,
       "runInBackground": false,
       "style": "primary",
       "text": "OPEN APP",
       "toggleOffText": "HIDE SOLUTION",
       "toggleOnText": "SHOW SOLUTION"
      },
      "ulab-button-7ac65347": {
       "bashCommand": "cd ~/ && cd /home/workspace/frontend && npm start",
       "filesToOpen": [],
       "isPreviewButton": false,
       "runInBackground": false,
       "style": "primary",
       "text": "START APP",
       "toggleOffText": "HIDE SOLUTION",
       "toggleOnText": "SHOW SOLUTION"
      }
     }
    }
   },
   "source": [
    "<button id=\"ulab-button-7ac65347\" class=\"ulab-btn--primary\"></button><button id=\"ulab-button-78f3760c\" class=\"ulab-btn--primary\"></button><button id=\"ulab-button-30197103\" class=\"ulab-btn--primary\"></button>"
   ]
  }
 ],
 "metadata": {
  "kernelspec": {
   "display_name": "Python 3",
   "language": "python",
   "name": "python3"
  },
  "language_info": {
   "codemirror_mode": {
    "name": "ipython",
    "version": 3
   },
   "file_extension": ".py",
   "mimetype": "text/x-python",
   "name": "python",
   "nbconvert_exporter": "python",
   "pygments_lexer": "ipython3",
   "version": "3.6.3"
  },
  "ulab_nb_type": "guided"
 },
 "nbformat": 4,
 "nbformat_minor": 4
}
